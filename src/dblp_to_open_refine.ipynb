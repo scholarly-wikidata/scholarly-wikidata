{
 "cells": [
  {
   "cell_type": "code",
   "execution_count": 2,
   "metadata": {},
   "outputs": [],
   "source": [
    "from SPARQLWrapper import SPARQLWrapper, JSON\n",
    "import pandas as pd\n",
    "import numpy as np\n",
    "import re"
   ]
  },
  {
   "cell_type": "markdown",
   "metadata": {},
   "source": [
    "### DBLP SPARQL Endpoint"
   ]
  },
  {
   "cell_type": "code",
   "execution_count": 1,
   "metadata": {},
   "outputs": [],
   "source": [
    "# This notebook requires an sparql endpoint loaded with DBLP RDF dump. \n",
    "# Please refer to DBLP on how to download the latest RDF dump - https://blog.dblp.org/2022/03/02/dblp-in-rdf/\n",
    "# Any triplestore with SPARQL support can be used to create the endpoint. For example, https://hub.docker.com/r/openlink/virtuoso-opensource-7/\n",
    "\n",
    "dblp_sparql_endpoint = \"\""
   ]
  },
  {
   "cell_type": "markdown",
   "metadata": {},
   "source": [
    "### SPARQL Query Templates"
   ]
  },
  {
   "cell_type": "code",
   "execution_count": 44,
   "metadata": {},
   "outputs": [],
   "source": [
    "conf_proceeding_list_query = \"\"\"\n",
    "PREFIX dblp: <https://dblp.org/rdf/schema#> \n",
    "\n",
    "SELECT ?p  WHERE {\n",
    "    ?p a dblp:Editorship .\n",
    "    FILTER(STRSTARTS(STR(?p), \"__pattern__\"))\n",
    "}\n",
    "ORDER BY ?p\n",
    "\"\"\"\n",
    "\n",
    "get_paper_list_query = \"\"\"\n",
    "PREFIX dblp: <https://dblp.org/rdf/schema#> \n",
    "\n",
    "#SELECT ?paper ?title ?doi ?pages ?year WHERE {\n",
    "SELECT ?paper ?title ?year WHERE {\n",
    "    ?paper a dblp:Publication, dblp:Inproceedings;\n",
    "        dblp:title ?title;\n",
    "        #dblp:doi ?doi;\n",
    "        #dblp:pagination ?pages;\n",
    "        dblp:yearOfPublication ?year;\n",
    "        dblp:publishedAsPartOf <__pattern__> .\n",
    "    #FILTER (STRSTARTS(str(?doi), \"https://doi.org/\"))\n",
    "}\n",
    "\"\"\"\n",
    "\n",
    "get_author_list_query = \"\"\"\n",
    "PREFIX dblp: <https://dblp.org/rdf/schema#> \n",
    "\n",
    "SELECT ?paper ?title ?name ?ordinal ?orcid ?wikidata ?scholar {\n",
    "    ?paper a dblp:Publication, dblp:Inproceedings;\n",
    "        dblp:title ?title;\n",
    "        dblp:hasSignature ?sign;\n",
    "        dblp:publishedAsPartOf <__pattern__> .\n",
    "\n",
    "    ?sign dblp:signatureDblpName ?name;\n",
    "        dblp:signatureCreator ?dblp_person;\n",
    "        dblp:signatureOrdinal ?ordinal .\n",
    "\n",
    "    OPTIONAL { ?dblp_person dblp:orcid ?orcid }\n",
    "    OPTIONAL { ?dblp_person dblp:wikidata ?wikidata }\n",
    "    OPTIONAL { ?dblp_person dblp:webpage ?scholar . FILTER (STRSTARTS(str(?scholar), \"https://scholar.google.com/\")) }\n",
    "}\n",
    "\"\"\""
   ]
  },
  {
   "cell_type": "markdown",
   "metadata": {},
   "source": [
    "### Utility Methods"
   ]
  },
  {
   "cell_type": "code",
   "execution_count": 72,
   "metadata": {},
   "outputs": [],
   "source": [
    "def get_results(query):\n",
    "    sparql = SPARQLWrapper(dblp_sparql_endpoint)\n",
    "    sparql.setQuery(query)\n",
    "    sparql.setReturnFormat(JSON)\n",
    "    results = sparql.query().convert()\n",
    "    return results\n",
    "\n",
    "def parse_results(results, var_list):\n",
    "    processed_results = list()\n",
    "    for result in results[\"results\"][\"bindings\"]:\n",
    "        result_array = list()\n",
    "        for var in var_list:\n",
    "            if var in result:\n",
    "                result_array.append(result[var]['value'])\n",
    "            else:\n",
    "                result_array.append(None)\n",
    "        processed_results.append(result_array)\n",
    "    df = pd.DataFrame(processed_results, columns=var_list, index=None)\n",
    "    return df\n",
    "\n",
    "\n",
    "def get_conf_proceedings(url_prefix):\n",
    "    query = conf_proceeding_list_query.replace(\"__pattern__\", url_prefix)\n",
    "    conf_list = parse_results(get_results(query), [\"p\"])[\"p\"].to_list()\n",
    "    pattern = r\"https://dblp.org/rec/conf/semweb/\\d{4}-?\\d?$\"\n",
    "    conf_list = [conf for conf in conf_list if re.match(pattern, conf)]\n",
    "    return conf_list\n",
    "\n",
    "def get_papers(conf_url):\n",
    "    query = get_paper_list_query.replace(\"__pattern__\", conf_url)\n",
    "    paper_list = parse_results(get_results(query), [\"paper\", \"title\", \"doi\", \"pages\", \"year\"])\n",
    "    paper_list[\"doi\"] = paper_list[\"doi\"].replace(r\"https://doi.org/\", \"\", regex=True)\n",
    "    paper_list[\"paper\"] = paper_list[\"paper\"].replace(r\"https://dblp.org/rec/\", \"\", regex=True)\n",
    "    paper_list['title'] = paper_list['title'].str.rstrip('.')\n",
    "    paper_list[\"title_2\"] = paper_list['title']\n",
    "    return paper_list\n",
    "\n",
    "def get_paper_authors(conf_url):\n",
    "    query = get_author_list_query.replace(\"__pattern__\", conf_url)\n",
    "    author_list = parse_results(get_results(query), [\"paper\", \"title\", \"name\", \"ordinal\", \"orcid\", \"wikidata\", \"scholar\"])\n",
    "    author_list['name'] = author_list['name'].replace(r'\\d', '', regex=True)\n",
    "    author_list['orcid'] = author_list['orcid'].replace(r\"https://orcid.org/\", \"\", regex=True)\n",
    "    author_list['scholar'] = author_list['scholar'].replace(r\"https://scholar.google.com/citations\\?user=\", \"\", regex=True)\n",
    "    author_list['wikidata'] = author_list['wikidata'].replace(r\"http://www.wikidata.org/entity/\", \"\", regex=True)\n",
    "    author_list['name_2'] = author_list['name']\n",
    "\n",
    "    return author_list\n"
   ]
  },
  {
   "cell_type": "code",
   "execution_count": 6,
   "metadata": {},
   "outputs": [
    {
     "name": "stdout",
     "output_type": "stream",
     "text": [
      "name map size: 1658\n"
     ]
    }
   ],
   "source": [
    "name_map_df = pd.read_csv(\"name_map.csv\")\n",
    "name_to_qid = dict()\n",
    "for i, row in name_map_df.iterrows():\n",
    "    name_to_qid[row['name']] = row['Name_Matched']\n",
    "print(f\"name map size: {len(name_to_qid)}\")"
   ]
  },
  {
   "cell_type": "code",
   "execution_count": 80,
   "metadata": {},
   "outputs": [
    {
     "name": "stdout",
     "output_type": "stream",
     "text": [
      "/Users/nandana/Documents/src/public/conf-data/src\n"
     ]
    }
   ],
   "source": [
    "!pwd"
   ]
  },
  {
   "cell_type": "code",
   "execution_count": 73,
   "metadata": {},
   "outputs": [],
   "source": [
    "conf_proceedings_list = get_conf_proceedings(\"https://dblp.org/rec/conf/semweb/\")"
   ]
  },
  {
   "cell_type": "code",
   "execution_count": 74,
   "metadata": {},
   "outputs": [
    {
     "data": {
      "text/plain": [
       "['https://dblp.org/rec/conf/semweb/2002',\n",
       " 'https://dblp.org/rec/conf/semweb/2003',\n",
       " 'https://dblp.org/rec/conf/semweb/2004',\n",
       " 'https://dblp.org/rec/conf/semweb/2005',\n",
       " 'https://dblp.org/rec/conf/semweb/2006',\n",
       " 'https://dblp.org/rec/conf/semweb/2007',\n",
       " 'https://dblp.org/rec/conf/semweb/2008',\n",
       " 'https://dblp.org/rec/conf/semweb/2009',\n",
       " 'https://dblp.org/rec/conf/semweb/2010-1',\n",
       " 'https://dblp.org/rec/conf/semweb/2010-2',\n",
       " 'https://dblp.org/rec/conf/semweb/2011-1',\n",
       " 'https://dblp.org/rec/conf/semweb/2011-2',\n",
       " 'https://dblp.org/rec/conf/semweb/2012-1',\n",
       " 'https://dblp.org/rec/conf/semweb/2012-2',\n",
       " 'https://dblp.org/rec/conf/semweb/2013-1',\n",
       " 'https://dblp.org/rec/conf/semweb/2013-2',\n",
       " 'https://dblp.org/rec/conf/semweb/2014-1',\n",
       " 'https://dblp.org/rec/conf/semweb/2014-2',\n",
       " 'https://dblp.org/rec/conf/semweb/2015-1',\n",
       " 'https://dblp.org/rec/conf/semweb/2015-2',\n",
       " 'https://dblp.org/rec/conf/semweb/2016-1',\n",
       " 'https://dblp.org/rec/conf/semweb/2016-2',\n",
       " 'https://dblp.org/rec/conf/semweb/2017-1',\n",
       " 'https://dblp.org/rec/conf/semweb/2017-2',\n",
       " 'https://dblp.org/rec/conf/semweb/2018-1',\n",
       " 'https://dblp.org/rec/conf/semweb/2018-2',\n",
       " 'https://dblp.org/rec/conf/semweb/2019-1',\n",
       " 'https://dblp.org/rec/conf/semweb/2019-2',\n",
       " 'https://dblp.org/rec/conf/semweb/2020-1',\n",
       " 'https://dblp.org/rec/conf/semweb/2020-2',\n",
       " 'https://dblp.org/rec/conf/semweb/2021',\n",
       " 'https://dblp.org/rec/conf/semweb/2022',\n",
       " 'https://dblp.org/rec/conf/semweb/2023-1',\n",
       " 'https://dblp.org/rec/conf/semweb/2023-2']"
      ]
     },
     "execution_count": 74,
     "metadata": {},
     "output_type": "execute_result"
    }
   ],
   "source": [
    "conf_proceedings_list"
   ]
  },
  {
   "cell_type": "code",
   "execution_count": 67,
   "metadata": {},
   "outputs": [
    {
     "data": {
      "text/plain": [
       "'https://dblp.org/rec/conf/ekaw/1992'"
      ]
     },
     "execution_count": 67,
     "metadata": {},
     "output_type": "execute_result"
    }
   ],
   "source": [
    "conf_url = conf_proceedings_list[0]\n",
    "conf_url"
   ]
  },
  {
   "cell_type": "code",
   "execution_count": 75,
   "metadata": {},
   "outputs": [],
   "source": [
    "all_paper_df = pd.DataFrame()\n",
    "all_author_df = pd.DataFrame()\n",
    "for conf_url in conf_proceedings_list:\n",
    "    year = conf_url.rsplit(\"/\",1)[1]\n",
    "    paper_df = get_papers(conf_url)\n",
    "    paper_df['desc'] = f\"scientific article published in K-CAP {year.split('-')[0]}\"\n",
    "    #paper_df['proceedings'] = iswc_year_to_proceeding[year]\n",
    "    all_paper_df = pd.concat([all_paper_df, paper_df], ignore_index=True)\n",
    "    author_df = get_paper_authors(conf_url)\n",
    "    author_df['name'] = author_df['name'].map(lambda x: name_to_qid[x] if x in name_to_qid else x)\n",
    "    author_df['wikidata'] = author_df['wikidata'].fillna('')\n",
    "    author_df.loc[author_df['wikidata'].str.startswith('Q'), 'name'] = author_df.loc[author_df['wikidata'].str.startswith('Q'), 'wikidata']\n",
    "    all_author_df = pd.concat([all_author_df, author_df], ignore_index=True)\n",
    "\n",
    "all_paper_df.to_excel(f\"../data/iswc/papers/iswc-2002-2023_paper_list.xlsx\")\n",
    "all_author_df.to_excel(f\"../data/iswc/papers/iswc-2002-2023_author_list.xlsx\")\n"
   ]
  },
  {
   "cell_type": "code",
   "execution_count": 109,
   "metadata": {},
   "outputs": [
    {
     "data": {
      "text/plain": [
       "['https://dblp.org/rec/conf/semweb/2002',\n",
       " 'https://dblp.org/rec/conf/semweb/2003',\n",
       " 'https://dblp.org/rec/conf/semweb/2004',\n",
       " 'https://dblp.org/rec/conf/semweb/2005',\n",
       " 'https://dblp.org/rec/conf/semweb/2006',\n",
       " 'https://dblp.org/rec/conf/semweb/2007',\n",
       " 'https://dblp.org/rec/conf/semweb/2008',\n",
       " 'https://dblp.org/rec/conf/semweb/2009',\n",
       " 'https://dblp.org/rec/conf/semweb/2010-1',\n",
       " 'https://dblp.org/rec/conf/semweb/2010-2',\n",
       " 'https://dblp.org/rec/conf/semweb/2011-1']"
      ]
     },
     "execution_count": 109,
     "metadata": {},
     "output_type": "execute_result"
    }
   ],
   "source": [
    "conf_proceedings_list[0:-23]"
   ]
  },
  {
   "cell_type": "code",
   "execution_count": null,
   "metadata": {},
   "outputs": [],
   "source": []
  },
  {
   "cell_type": "code",
   "execution_count": 6,
   "metadata": {},
   "outputs": [],
   "source": [
    "df = pd.read_csv('../2008-2023-poster-demo-author-list-xlsx.csv')\n",
    "df = df[['name', 'Name_Matched']]\n",
    "df.replace(\"\", np.nan, inplace=True)\n",
    "df.drop_duplicates(subset=['name'], keep=False, inplace=True)\n",
    "df = df.dropna(subset=['Name_Matched'])\n",
    "already_exist = df[\"name\"].isin(name_to_qid.keys())\n",
    "df = df[~already_exist]\n",
    "df.to_csv(\"name_map_2.csv\")\n"
   ]
  },
  {
   "cell_type": "code",
   "execution_count": 110,
   "metadata": {},
   "outputs": [],
   "source": [
    "iswc_year_to_proceeding = {\n",
    "\t\"2011-1\": \"Q56840148\",\n",
    "\t\"2010-1\": \"Q56840159\",\n",
    "\t\"2010-2\": \"Q56840159\",\n",
    "\t\"2009\": \"Q48733570\",\n",
    "\t\"2008\": \"Q98093643\",\n",
    "\t\"2007\": \"Q28553532\",\n",
    "\t\"2006\": \"Q28916709\",\n",
    "\t\"2005\": \"Q125320179\",\n",
    "\t\"2004\": \"Q56834677\",\n",
    "\t\"2003\": \"Q55903617\",\n",
    "\t\"2002\": \"Q113568316\"\n",
    "}"
   ]
  },
  {
   "cell_type": "code",
   "execution_count": 118,
   "metadata": {},
   "outputs": [],
   "source": [
    "proc_to_qid = dict()\n",
    "df = pd.read_csv(\"../data/iswc/poster_demo/poster_demo_proc_editors.csv\")\n",
    "for idx, row in df.iterrows():\n",
    "    proc_to_qid[row['proc']] = row['QID']"
   ]
  },
  {
   "cell_type": "code",
   "execution_count": 119,
   "metadata": {},
   "outputs": [
    {
     "data": {
      "text/plain": [
       "{'https://dblp.org/rec/conf/semweb/2008p': 'Q113545745',\n",
       " 'https://dblp.org/rec/conf/semweb/2010pd': 'Q113545435',\n",
       " 'https://dblp.org/rec/conf/semweb/2012p': 'Q113545151',\n",
       " 'https://dblp.org/rec/conf/semweb/2013p': 'Q113545021',\n",
       " 'https://dblp.org/rec/conf/semweb/2014p': 'Q113544758',\n",
       " 'https://dblp.org/rec/conf/semweb/2015p': 'Q111517264',\n",
       " 'https://dblp.org/rec/conf/semweb/2016p': 'Q113544230',\n",
       " 'https://dblp.org/rec/conf/semweb/2017p': 'Q42309709',\n",
       " 'https://dblp.org/rec/conf/semweb/2018p': 'Q57393931',\n",
       " 'https://dblp.org/rec/conf/semweb/2019p': 'Q83489954',\n",
       " 'https://dblp.org/rec/conf/semweb/2021p': 'Q113287562',\n",
       " 'https://dblp.org/rec/conf/semweb/2022p': 'Q115053047',\n",
       " 'https://dblp.org/rec/conf/semweb/2023p': 'Q124407889',\n",
       " 'https://dblp.org/rec/conf/semweb/2020demo': 'Q101089329'}"
      ]
     },
     "execution_count": 119,
     "metadata": {},
     "output_type": "execute_result"
    }
   ],
   "source": [
    "proc_to_qid"
   ]
  },
  {
   "cell_type": "code",
   "execution_count": 123,
   "metadata": {},
   "outputs": [],
   "source": [
    "qid_to_title = dict()\n",
    "df = pd.read_csv(\"../data/iswc/poster_demo/iswc_posters_demos.csv\")\n",
    "for idx, row in df.iterrows():\n",
    "    qid_to_title[row['QID']] = row['title'].lower()"
   ]
  },
  {
   "cell_type": "code",
   "execution_count": 124,
   "metadata": {},
   "outputs": [
    {
     "data": {
      "text/plain": [
       "{'Q113545745': 'iswc2008 posters and demonstrations',\n",
       " 'Q113545435': 'proceedings of the iswc 2010 posters & demonstrations track: collected abstracts',\n",
       " 'Q113545151': 'proceedings of the iswc 2012 posters & demonstrations track',\n",
       " 'Q113545021': 'proceedings of the iswc 2013 posters & demonstrations track',\n",
       " 'Q113544758': 'proceedings of the iswc 2014 posters & demonstrations track',\n",
       " 'Q111517264': 'proceedings of the iswc 2015 posters & demonstrations track',\n",
       " 'Q113544230': 'proceedings of the iswc 2016 posters & demonstrations track',\n",
       " 'Q42309709': 'proceedings of the iswc 2017 posters & demonstrations and industry tracks',\n",
       " 'Q57393931': 'proceedings of the iswc 2018 posters & demonstrations, industry and blue sky ideas tracks',\n",
       " 'Q83489954': 'proceedings of the iswc 2019 satellite tracks (posters & demonstrations, industry, and outrageous ideas)',\n",
       " 'Q101089329': 'proceedings of the iswc 2020 demos and industry tracks: from novel ideas to industrial practice',\n",
       " 'Q113287562': 'proceedings of the iswc 2021 posters, demos and industry tracks: from novel ideas to industrial practice',\n",
       " 'Q115053047': 'proceedings of the iswc 2022 posters, demos and industry tracks: from novel ideas to industrial practice',\n",
       " 'Q124407889': 'proceedings of the iswc 2023 posters, demos and industry tracks: from novel ideas to industrial practice'}"
      ]
     },
     "execution_count": 124,
     "metadata": {},
     "output_type": "execute_result"
    }
   ],
   "source": [
    "qid_to_title"
   ]
  },
  {
   "cell_type": "code",
   "execution_count": 120,
   "metadata": {},
   "outputs": [
    {
     "data": {
      "text/plain": [
       "['https://dblp.org/rec/conf/semweb/2008p',\n",
       " 'https://dblp.org/rec/conf/semweb/2010pd',\n",
       " 'https://dblp.org/rec/conf/semweb/2012p',\n",
       " 'https://dblp.org/rec/conf/semweb/2013p',\n",
       " 'https://dblp.org/rec/conf/semweb/2014p',\n",
       " 'https://dblp.org/rec/conf/semweb/2015p',\n",
       " 'https://dblp.org/rec/conf/semweb/2016p',\n",
       " 'https://dblp.org/rec/conf/semweb/2017p',\n",
       " 'https://dblp.org/rec/conf/semweb/2018p',\n",
       " 'https://dblp.org/rec/conf/semweb/2019p',\n",
       " 'https://dblp.org/rec/conf/semweb/2021p',\n",
       " 'https://dblp.org/rec/conf/semweb/2022p',\n",
       " 'https://dblp.org/rec/conf/semweb/2023p',\n",
       " 'https://dblp.org/rec/conf/semweb/2020demo']"
      ]
     },
     "execution_count": 120,
     "metadata": {},
     "output_type": "execute_result"
    }
   ],
   "source": [
    "proc_urls = list(proc_to_qid.keys())\n",
    "proc_urls"
   ]
  },
  {
   "cell_type": "code",
   "execution_count": 134,
   "metadata": {},
   "outputs": [],
   "source": [
    "all_paper_df = pd.DataFrame()\n",
    "all_author_df = pd.DataFrame()\n",
    "for conf_url in proc_urls:\n",
    "    #year = conf_url.replace(\"https://dblp.org/rec/conf/semweb/\", \"\").replace(\"p\",\"\").replace(\"pd\",\"\").replace(\"demo\",\"\")\n",
    "    q_id = proc_to_qid[conf_url]\n",
    "    proc_title = qid_to_title[q_id]\n",
    "    paper_df = get_papers(conf_url)\n",
    "    paper_df['desc'] = f\"scientific article published in {proc_title}\"\n",
    "    paper_df['proceedings'] = q_id\n",
    "    all_paper_df = pd.concat([all_paper_df, paper_df], ignore_index=True)\n",
    "    author_df = get_paper_authors(conf_url)\n",
    "    author_df['name'] = author_df['name'].map(lambda x: name_to_qid[x] if x in name_to_qid else x)\n",
    "    author_df['wikidata'] = author_df['wikidata'].fillna('')\n",
    "    author_df.loc[author_df['wikidata'].str.startswith('Q'), 'name'] = author_df.loc[author_df['wikidata'].str.startswith('Q'), 'wikidata']\n",
    "    all_author_df = pd.concat([all_author_df, author_df], ignore_index=True)\n",
    "\n",
    "all_paper_df.to_excel(f\"../data/iswc/papers/2008-2023_poster_demo_list.xlsx\")\n",
    "all_author_df.to_excel(f\"../data/iswc/papers/2008-2023_poster_demo_author_list.xlsx\")"
   ]
  }
 ],
 "metadata": {
  "kernelspec": {
   "display_name": "Python 3 (ipykernel)",
   "language": "python",
   "name": "python3"
  },
  "language_info": {
   "codemirror_mode": {
    "name": "ipython",
    "version": 3
   },
   "file_extension": ".py",
   "mimetype": "text/x-python",
   "name": "python",
   "nbconvert_exporter": "python",
   "pygments_lexer": "ipython3",
   "version": "3.11.8"
  }
 },
 "nbformat": 4,
 "nbformat_minor": 4
}
